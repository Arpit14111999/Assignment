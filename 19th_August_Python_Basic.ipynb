{
 "cells": [
  {
   "cell_type": "markdown",
   "id": "b67fc072-6e32-41dd-8eeb-3e9236aa7f9a",
   "metadata": {},
   "source": [
    "Python Basic Variable"
   ]
  },
  {
   "cell_type": "markdown",
   "id": "e532166a-94d6-4a21-a2fe-d4c4505b9f80",
   "metadata": {},
   "source": [
    "Q1 Declare two variables, `x` and `y`, and assign them integer values. Swap the values of these variables without using any temporary variable."
   ]
  },
  {
   "cell_type": "code",
   "execution_count": 1,
   "id": "caef5b7f-a468-4341-88ff-82e531b2ecd5",
   "metadata": {},
   "outputs": [
    {
     "name": "stdout",
     "output_type": "stream",
     "text": [
      "Old values of x and y are 34   35 respectively\n",
      "New values of x and y are  35   34 respectively\n"
     ]
    }
   ],
   "source": [
    "x,y=34,35\n",
    "print(\"Old values of x and y are\",x,\" \",y, \"respectively\")\n",
    "y,x=x,y #Swapping the values\n",
    "print(\"New values of x and y are \",x,\" \",y, \"respectively\")"
   ]
  },
  {
   "cell_type": "markdown",
   "id": "332dc630-d6f9-4ae2-9c25-594e7dfd7a6a",
   "metadata": {},
   "source": [
    "Q2 Create a program that calculates the area of a rectangle. Take the length and\n",
    "width as inputs from the user and store them in variables. Calculate and\n",
    "display the area."
   ]
  },
  {
   "cell_type": "code",
   "execution_count": 2,
   "id": "45f9e4c1-a32b-44f9-b649-550d95e6dcea",
   "metadata": {},
   "outputs": [
    {
     "name": "stdin",
     "output_type": "stream",
     "text": [
      "Enter length of the rectangle \n",
      " 45\n",
      "Enter breadth of the rectangle \n",
      " 24\n"
     ]
    },
    {
     "name": "stdout",
     "output_type": "stream",
     "text": [
      "Area of the rectangle :  1080\n"
     ]
    }
   ],
   "source": [
    "length=int(input(\"Enter length of the rectangle \\n\"))\n",
    "breadth=int(input(\"Enter breadth of the rectangle \\n\"))\n",
    "#Formula to calculate Area of rectangle is Area=length*breadth\n",
    "area=length*breadth\n",
    "print('Area of the rectangle : ',area)"
   ]
  },
  {
   "cell_type": "markdown",
   "id": "135e178c-f20e-45e5-be8e-2944632cf503",
   "metadata": {},
   "source": [
    "Q3 Write a Python program that converts temperatures from Celsius to\n",
    "Fahrenheit. Take the temperature in Celsius as input, store it in a variable,\n",
    "convert it to Fahrenheit, and display the result."
   ]
  },
  {
   "cell_type": "code",
   "execution_count": 3,
   "id": "cf1f4720-2c0b-4ec8-93cb-2b0ed27287f8",
   "metadata": {},
   "outputs": [
    {
     "name": "stdin",
     "output_type": "stream",
     "text": [
      "Enter the temperature\n",
      " 39.5\n"
     ]
    },
    {
     "name": "stdout",
     "output_type": "stream",
     "text": [
      "Converted Farenheit temperature is : 103.1\n"
     ]
    }
   ],
   "source": [
    "cel=float(input(\"Enter the temperature\\n\"))\n",
    "far=9*cel/5+32 #Formula for conversion of celcius tofarenheit \n",
    "print('Converted Farenheit temperature is :',round(far,ndigits=2))"
   ]
  },
  {
   "cell_type": "markdown",
   "id": "b86f5964-03bd-4191-8a1f-a5d7ce746d28",
   "metadata": {},
   "source": [
    "String Based Question"
   ]
  },
  {
   "cell_type": "markdown",
   "id": "8f62a79d-f0be-4d44-874a-03e49a86f96e",
   "metadata": {},
   "source": [
    "Q1 Write a Python program that takes a string as input and prints the length of\n",
    "the string."
   ]
  },
  {
   "cell_type": "code",
   "execution_count": 4,
   "id": "e60576bd-ee73-4347-b9d0-b1551b59cd1a",
   "metadata": {},
   "outputs": [
    {
     "name": "stdin",
     "output_type": "stream",
     "text": [
      "Enter a string \n",
      " Arpit\n"
     ]
    },
    {
     "name": "stdout",
     "output_type": "stream",
     "text": [
      "Length of the string is :  5\n"
     ]
    }
   ],
   "source": [
    "s=input(\"Enter a string \\n\")\n",
    "print(\"Length of the string is : \",len(s))"
   ]
  },
  {
   "cell_type": "markdown",
   "id": "76c0bad4-66e8-4ec6-962d-14a2392af43b",
   "metadata": {},
   "source": [
    "Q2 Create a program that takes a sentence from the user and counts the number\n",
    "of vowels (a, e, i, o, u) in the string."
   ]
  },
  {
   "cell_type": "code",
   "execution_count": 5,
   "id": "f9f90a35-2d9c-476a-aac3-18a9c92f9d38",
   "metadata": {},
   "outputs": [
    {
     "name": "stdin",
     "output_type": "stream",
     "text": [
      "Enter a sentence\n",
      " Full Stack Data Science Pro\n"
     ]
    },
    {
     "name": "stdout",
     "output_type": "stream",
     "text": [
      "Number of vowels in the sentence is :  8\n"
     ]
    }
   ],
   "source": [
    "s=input(\"Enter a sentence\\n\")\n",
    "vow=['a','e','i','o','u']\n",
    "k=0\n",
    "for i in range(0,len(s)):\n",
    "    if s[i] in vow:\n",
    "        k+=1\n",
    "print(\"Number of vowels in the sentence is : \",k)\n",
    "    "
   ]
  },
  {
   "cell_type": "markdown",
   "id": "ef9a7ca8-9898-4e07-9ee9-9bb0b32ea361",
   "metadata": {},
   "source": [
    "Q3 Given a string, reverse the order of characters using string slicing and print\n",
    "the reversed string."
   ]
  },
  {
   "cell_type": "code",
   "execution_count": 6,
   "id": "d2a4164c-5e85-4fb2-8248-05995e04871b",
   "metadata": {},
   "outputs": [
    {
     "name": "stdin",
     "output_type": "stream",
     "text": [
      "Enter a sentence\n",
      " arpit\n"
     ]
    },
    {
     "name": "stdout",
     "output_type": "stream",
     "text": [
      "Reverse string : tipra\n"
     ]
    }
   ],
   "source": [
    "s=input(\"Enter a sentence\\n\")\n",
    "new_s=s[::-1]\n",
    "print(\"Reverse string :\",new_s)"
   ]
  },
  {
   "cell_type": "markdown",
   "id": "e8a0ff7e-bff8-4f52-bb09-964dc0c0d63e",
   "metadata": {},
   "source": [
    "Q4 Write a program that takes a string as input and checks if it is a palindrome\n",
    "(reads the same forwards and backwards)."
   ]
  },
  {
   "cell_type": "code",
   "execution_count": 7,
   "id": "e327e53e-2a9c-4eba-a3fc-d84bc009970e",
   "metadata": {},
   "outputs": [
    {
     "name": "stdin",
     "output_type": "stream",
     "text": [
      "Enter a sentence\n",
      " mom\n"
     ]
    },
    {
     "name": "stdout",
     "output_type": "stream",
     "text": [
      "Palindrom String\n"
     ]
    }
   ],
   "source": [
    "s=input(\"Enter a sentence\\n\")\n",
    "s=s.upper()\n",
    "st=s[::-1]\n",
    "if st==s:\n",
    "    print(\"Palindrom String\")\n",
    "else:\n",
    "          print(\"Not Palindrome\")\n"
   ]
  },
  {
   "cell_type": "markdown",
   "id": "3ff8cd12-5dea-4975-b1bd-1c91916b8b9e",
   "metadata": {},
   "source": [
    "Q5 Create a program that takes a string as input and removes all the spaces from\n",
    "it. Print the modified string without spaces."
   ]
  },
  {
   "cell_type": "code",
   "execution_count": 8,
   "id": "85a761d2-2844-45ad-8cd7-fb7e7093499e",
   "metadata": {},
   "outputs": [
    {
     "name": "stdin",
     "output_type": "stream",
     "text": [
      "Enter a sentence\n",
      " Full stack data science pro\n"
     ]
    },
    {
     "name": "stdout",
     "output_type": "stream",
     "text": [
      "Modified String :  Fullstackdatasciencepro\n"
     ]
    }
   ],
   "source": [
    "s=input(\"Enter a sentence\\n\")\n",
    "st=\" \"\n",
    "for i in range(0,len(s)):\n",
    "    if s[i]==' ':\n",
    "        continue\n",
    "    else:\n",
    "        st=st+s[i]\n",
    "print(\"Modified String :\",st)"
   ]
  }
 ],
 "metadata": {
  "kernelspec": {
   "display_name": "Python 3 (ipykernel)",
   "language": "python",
   "name": "python3"
  },
  "language_info": {
   "codemirror_mode": {
    "name": "ipython",
    "version": 3
   },
   "file_extension": ".py",
   "mimetype": "text/x-python",
   "name": "python",
   "nbconvert_exporter": "python",
   "pygments_lexer": "ipython3",
   "version": "3.10.8"
  }
 },
 "nbformat": 4,
 "nbformat_minor": 5
}
